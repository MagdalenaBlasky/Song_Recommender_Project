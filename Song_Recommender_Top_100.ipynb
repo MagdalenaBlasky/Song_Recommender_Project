{
 "cells": [
  {
   "cell_type": "code",
   "execution_count": 1,
   "id": "273211a1",
   "metadata": {},
   "outputs": [],
   "source": [
    "import pandas as pd\n",
    "\n",
    "billboard_100 = pd.read_csv(\"Data/Scraped_Billboard_Top_100.csv\")"
   ]
  },
  {
   "cell_type": "code",
   "execution_count": 2,
   "id": "a080cf97",
   "metadata": {},
   "outputs": [],
   "source": [
    "def is_song_in_top_100(df):\n",
    "    \n",
    "    from pyjarowinkler import distance\n",
    "    \n",
    "    user_input = input(\"Please enter a song name here: \")\n",
    "    user_input = user_input.lower()\n",
    "    \n",
    "\n",
    "    for i in list(df.song):\n",
    "        \n",
    "        dist = distance.get_jaro_distance(i, user_input)\n",
    "        \n",
    "        if dist == 1:\n",
    "            recommendation = df[df.song != user_input].sample(n=1)\n",
    "            title = recommendation.iloc[0,0]\n",
    "            artist = recommendation.iloc[0,1]\n",
    "            return print('Your song is in the Billboard Top 100 Songs!','\\n','Here is your recommendation:',title, 'by', artist)\n",
    "        \n",
    "        \n",
    "        elif dist >= 0.90 and dist < 1:\n",
    "            answer = input('Are you sure your input was correct? You entered '+ user_input + ', did you mean '+ i + ' ? (yes/no) ').lower()\n",
    "            \n",
    "            if answer == 'yes':\n",
    "                recommendation = df[df.song != user_input].sample(n=1)\n",
    "                title = recommendation.iloc[0,0]\n",
    "                artist = recommendation.iloc[0,1]\n",
    "                return print('\\n','Your song is in the Billboard Top 100 Songs!','\\n','Here is your recommendation:',title, 'by', artist)\n",
    "            \n",
    "            elif answer == 'no':\n",
    "                answer2 = input('Do you want to try again? (yes/no)').lower() \n",
    "                if answer2 == 'yes':\n",
    "                    return is_song_in_top_100(df)\n",
    "                elif answer2 == 'no':\n",
    "                    return print('\\n','Your song is not in the Billboard Top 100 Songs, sorry!')\n",
    "                else:\n",
    "                    return print('Your response was neither yes nor no, please start again.') + is_song_in_top_100(df)\n",
    "            else:\n",
    "                    return print('Your response was neither yes nor no, please start again.') + is_song_in_top_100(df)\n",
    "                \n",
    "    return print('Your song is not in the Billboard Top 100 Songs, sorry!')"
   ]
  },
  {
   "cell_type": "code",
   "execution_count": 3,
   "id": "504d03be",
   "metadata": {},
   "outputs": [
    {
     "name": "stdout",
     "output_type": "stream",
     "text": [
      "Please enter a song name here: stay\n",
      "Your song is in the Billboard Top 100 Songs! \n",
      " Here is your recommendation: doin' this by luke combs\n"
     ]
    }
   ],
   "source": [
    "is_song_in_top_100(billboard_100)"
   ]
  },
  {
   "cell_type": "code",
   "execution_count": null,
   "id": "5cd41057",
   "metadata": {},
   "outputs": [],
   "source": []
  }
 ],
 "metadata": {
  "kernelspec": {
   "display_name": "Python 3 (ipykernel)",
   "language": "python",
   "name": "python3"
  },
  "language_info": {
   "codemirror_mode": {
    "name": "ipython",
    "version": 3
   },
   "file_extension": ".py",
   "mimetype": "text/x-python",
   "name": "python",
   "nbconvert_exporter": "python",
   "pygments_lexer": "ipython3",
   "version": "3.9.7"
  }
 },
 "nbformat": 4,
 "nbformat_minor": 5
}
