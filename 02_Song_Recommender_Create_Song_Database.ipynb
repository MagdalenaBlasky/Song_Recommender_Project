{
 "cells": [
  {
   "cell_type": "markdown",
   "id": "c5b1b28d",
   "metadata": {},
   "source": [
    "# Creating a song database using the Spotify API \n",
    "\n",
    "These functions can be used to build a new spotify song database that can later be used for the Spotify recommender.<br>\n",
    "We have created a song database and saved it to a .csv file which we will use later for the recommender, but these functions can be used to build a database from scratch. There is also some dictionaries of playlists that can be used for it. "
   ]
  },
  {
   "cell_type": "code",
   "execution_count": 1,
   "id": "1e0f2fe1",
   "metadata": {},
   "outputs": [],
   "source": [
    "import config"
   ]
  },
  {
   "cell_type": "code",
   "execution_count": 2,
   "id": "96ae9ab3",
   "metadata": {},
   "outputs": [],
   "source": [
    "import pandas as pd\n",
    "import spotipy\n",
    "import json\n",
    "import pprint\n",
    "from spotipy.oauth2 import SpotifyClientCredentials\n",
    "\n",
    "sp = spotipy.Spotify(auth_manager=SpotifyClientCredentials(client_id= config.client_id,\n",
    "                                                           client_secret= config.client_secret))"
   ]
  },
  {
   "cell_type": "markdown",
   "id": "94a390c0",
   "metadata": {},
   "source": [
    "## Get tracks from a playlist\n",
    "\n",
    "This function returns a list of tracks from a Spotify playlist, it will be used later inside of another function."
   ]
  },
  {
   "cell_type": "code",
   "execution_count": 3,
   "id": "066c4dc8",
   "metadata": {},
   "outputs": [],
   "source": [
    "def get_playlist_tracks(username, playlist_id):\n",
    "    results = sp.user_playlist_tracks(username,playlist_id,market=\"GB\")\n",
    "    tracks = results['items']\n",
    "    while results['next']:\n",
    "        results = sp.next(results)\n",
    "        tracks.extend(results['items'])\n",
    "    return tracks"
   ]
  },
  {
   "cell_type": "markdown",
   "id": "e29e6fc8",
   "metadata": {},
   "source": [
    "## Create a dataframe with audiofeatures\n",
    "\n",
    "This function creates a dataframe from a given playlist - the arguments are playlist_ID and user_name of the creator."
   ]
  },
  {
   "cell_type": "code",
   "execution_count": 5,
   "id": "83c19d3f",
   "metadata": {},
   "outputs": [],
   "source": [
    "def create_df_with_audio_features (playlist_id,username): \n",
    "    \n",
    "    '''as arguments pass a spotify playlist id and the corresponding user name. \n",
    "    the function returns a dataframe with audiofeatures of all songs from given playlist.'''\n",
    "    \n",
    "    tracks = get_playlist_tracks(username, playlist_id) \n",
    "    \n",
    "    track_id_list = []\n",
    "\n",
    "    for p in range (len(tracks)):\n",
    "        track_id_list.append(tracks[p]['track'][\"id\"])\n",
    "    \n",
    "    audio_features = sp.audio_features(track_id_list) # this function takes maximum of 100 id's !!!\n",
    "    \n",
    "    songs_dataframe = pd.DataFrame(audio_features)\n",
    "    \n",
    "    return songs_dataframe"
   ]
  },
  {
   "cell_type": "markdown",
   "id": "b219e92c",
   "metadata": {},
   "source": [
    "## Add songs from playlists to a dataframe\n",
    "\n",
    "This function uses a dictionary of playlists to add new songs to an existing dataframe (don't forget to remove duplicates in the end, because songs might be repeated on different playlists!)"
   ]
  },
  {
   "cell_type": "code",
   "execution_count": 391,
   "id": "66f3f741",
   "metadata": {},
   "outputs": [],
   "source": [
    "def create_data_frame_from_multiple_dataframes(playlist_id_and_username_dict, songs_audio_features_df):\n",
    "    \n",
    "    '''as arguments pass a dictionary where keys are playlist ids and values are usernames \n",
    "    and an existing data frame of song audio features'''\n",
    "    \n",
    "    for key, value in playlist_id_and_username_dict.items():\n",
    "        x = create_df_with_audio_features(key,value)\n",
    "        songs_audio_features_df = pd.concat(objs=[songs_audio_features_df, x], axis=0,ignore_index=True)\n",
    "        \n",
    "    songs_audio_features_df.to_csv(\"Data/songs_audio_feature_dataframe1.csv\", index=False)\n",
    "                               \n",
    "    return songs_audio_features_df"
   ]
  },
  {
   "cell_type": "markdown",
   "id": "19686a79",
   "metadata": {},
   "source": [
    "## Example dictionaries of playlists"
   ]
  },
  {
   "cell_type": "code",
   "execution_count": 364,
   "id": "1865e8a0",
   "metadata": {},
   "outputs": [],
   "source": [
    "new_dict = {'0j8LmLIBQsFENpw7xATmRQ':'Tony Wiese','0zX2XXdBjwxWkEJh8GnTbK':'Marcus Bissetti'}\n",
    "playlist_dict_4 ={'37i9dQZF1DX6RA5ZrA5a23':'Spotify','37i9dQZF1DWXWbLEOaHnU3':'Spotify'}\n",
    "playlist_dict_5 = {'37i9dQZF1DXbS8bPVXXR2B':'Spotify','37i9dQZF1DX4arVIN5Cg4U':'Spotify','37i9dQZF1DX8cbjeZ4UYIG':'Spotify'}\n",
    "velvey_dict_1 = {'63OX6biHoyrdDLIa6wSzYC':'velvey','2WTgjtdNpP5eINfT0nVu4R':'velvey','2nr5kV7ruSHveM5OZWdHIb':'velvey','62ph81KhF22tCbbH4OA4gM':'velvey','36GzxsljeKxdsj3WVUBSUl':'velvey'}\n",
    "velvey_dict_2 = {'6msAESikByV5t2PPQBBJse':'velvey','24qEcbVYRIQ3GYhFl7Tu3g':'velvey','46RbwjSzFjBqX1zXQwq2V2':'velvey','1hYS1PLac5pNr1AGitRyG9':'velvey','0JOKEhfKGOxfaQZt9QUv7i':'velvey'}\n",
    "velvey_dict_4 = {'3WkGqIO7lWsbpj0vIQzvIQ':'velvey','75Qx7bUKAkxb9XkD3rSKEt':'velvey','4KXQ8JAP0OkTASg41S9B5n':'velvey','1IJmQ1ddrzWVYIHPwGMvGg':'velvey'}\n",
    "velvey_dict_3 = {'5kexhZdmEHsybU97DjAC0F':'velvey','0RxyjQBJsfx0QSS887gfGd':'velvey','7cNF6tUhKlXWuw0JVKLZwA':'velvey','7CGbc91x2JU3mddaEJlTEk':'velvey'}\n",
    "nelson_playlist = {'4ldLuRieh8jnCKOjSoqUQH':'Nelson Lage'}\n",
    "magdas_playlists = {'71nFwFmZFvVYmils0i0KS6':'Magdalena Blasky','37i9dQZF1DX3jWba5xiDhV':'Spotify'}\n",
    "jurek_playlists = {'3rK9vLarAA4KNZr0DuCcEJ':'jerry_woo','74baqx6L1qmWf6iU5vVMAi':'jerry_woo','4k4FbGz5QUb3Wkqd5B4hBm':'jerry_woo','6Eh8CSnguxXALsM4M6YsQS':'jerry_woo'}\n",
    "filips_playlists_1 = {'5aP6mwRVDOVNGYrrZQCxE8':'Filip Piotr Makara'}\n",
    "filips_playlists_2 = {'40cdOFiijrki5AcTQEjPnR':'Filip Piotr Makara'}\n",
    "filips_playlists_3 = {'5OW5iLQJXKA7udpjlxxjCG':'Filip Piotr Makara','3KUqX8O4gabYhAorWq5toe':'Filip Piotr Makara','0CQY6JUvgOWr03z8v3Gd1y':'Filip Piotr Makara'}\n",
    "filips_playlists_4 = {'5SjP9Ce1MjEOlNCiyToT2w':'Filip Piotr Makara','0IdKrjixDO3YuNK3FQaSP8':'Filip Piotr Makara','3Tq5Wd7oodEjwx0XnM73sd':'Filip Piotr Makara','0b3cP9e22uqakHwLSiHX7U':'Filip Piotr Makara'}\n",
    "santiago_playlists_1 = {'3fkfTPWcPvTIz3rErPIJXP':'Santiago M. Gonzalez','41Mu7eCpeMhbzEFJlHE79O':'Santiago M. Gonzalez','51M0Iao8jzMG01Cc36DVcX':'Santiago M. Gonzalez','6fyIQ1KW6EHP3Yq47DFiIA':'Santiago M. Gonzalez','47LL6xPsiqgWu67XISl1x0':'Santiago M. Gonzalez'}\n",
    "marta_1 = {'3lPnQ6MjFIwJk1idZC6E3y':'magweda1','6p8N0nuVkYp3n2rd75pjw8':'magweda1','3bjckb1HhGadSz7lkPwsAd':'magweda1','4mB2ChACmwXo1Z3oRXGaS7':'magweda1'}\n",
    "makii_1 = {'37i9dQZF1DXaS0Bb5SeHIi':'Spotify','1eScuEm7ykdEfCafxjJPSE':'Scherz Ad','37i9dQZF1DX4AyFl3yqHeK':'Spotify'}\n",
    "makii_2 = {'37i9dQZF1DX0XUsuxWHRQd':'Spotify'}\n",
    "makii_3 = {'1Ep7ZNKybvRCXNsq9Jm6M3':'cyborgtemplar'}\n",
    "makii_4 = {'06c5b4umxE7T4jJhGWPiBx':'Scout Wölfli','7usWuho4J9yEEk5VucM8rj':'Makii Oo','7rZgiJ8fpaFdocV23i1vVD':'Makii Oo','37i9dQZF1DWVzZlRWgqAGH':'Spotify'}\n",
    "makii_5 ={'2bnxJ4zcQ42AC9cAZoqokl':'Makii Oo','66U2FUA2A4C9ErAAlrJtVs':'hotlemonwedge','37i9dQZF1DX7k3T9O9bscd':'Spotify','37i9dQZF1DX91UQmVbQYyN':'Spotify','5aesYspSWEh5zbu4BgVkdI':'Makii Oo','37i9dQZF1DX30w0JtSIv4j':'Spotify'}\n",
    "alex_1 = {'6d3gdmWMqYi98lju6ysGNJ':'hotlemonwedge','72Bejw30fD0LovZyZ8LZIB':'hotlemonwedge','5XMGl3Kr1kRrVGfAqUMbF6':'hotlemonwedge','1nZN73yFATOS0zCYpjqE5H':'hotlemonwedge','4CubQTXmYk4Sq1zmNyV4Qv':'hotlemonwedge'}\n",
    "alex_2 = {'7r82cJ0EwkQAWCr3tYQlAU':'hotlemonwedge'}\n",
    "alex_3 = {'3xDez7ilwFjZfOMIBzK8MT':'hotlemonwedge','5mLJZ0RXujXRjhnE7jnIL2':'hotlemonwedge','1jRZY7xVO6u9IKvvBRNlyS':'hotlemonwedge'}\n",
    "alex_4 = {'2KSTDM6nRl0IsYBPFA4mLz':'hotlemonwedge','6wcFGsuqYQwczGRDvd5VhE':'samtompkinsuk','1SCM5FgdvJ9Fof1QX4n9NY':'hotlemonwedge'}\n",
    "various_pride = {'37i9dQZF1DX59HcpGmPXYR':'Spotify','37i9dQZF1DX5TMFhaZc9ov':'Spotify'}\n",
    "various_country = {'37i9dQZF1DX1lVhptIYRda':'Spotify','37i9dQZF1DWTkxQvqMy4WW':'Spotify','37i9dQZF1DWZBCPUIUs2iR':'Spotify','37i9dQZF1DX7aUUBCKwo4Y':'Spotify','37i9dQZF1DWYnwbYQ5HnZU':'Spotify'}\n",
    "various_reggae = {'37i9dQZF1DXbwoaqxaoAVr':'Spotify','37i9dQZF1DXbSbnqxMTGx9':'Spotify','37i9dQZF1DWWDLvD3P5wOG':'Spotify','37i9dQZF1DWYtKpmml7moA':'Spotify','37i9dQZF1DXa8n42306eJB':'Spotify'}\n",
    "various_jazz = {'37i9dQZF1DX7YCknf2jT6s':'Spotify','37i9dQZF1DWTR4ZOXTfd9K':'Spotify','37i9dQZF1DWVmPb8C2FmNP':'Spotify','37i9dQZF1DXdwTUxmGKrdN':'Spotify','37i9dQZF1DX76YsWjvbz9I':'Spotify'}\n",
    "various_classical = {'37i9dQZF1DWV0gynK7G6pD':'Spotify','37i9dQZF1DWXtBjoO4Thyy':'Spotify','37i9dQZF1DWXQD9LUA72yg':'Spotify','37i9dQZF1DWT9NPKiCMQns':'Spotify','37i9dQZF1DWZf52HmhYw49':'Spotify'}\n",
    "various_funk = {'37i9dQZF1DWUS3jbm4YExP':'Spotify','37i9dQZF1DXcAiMO5AYxE8':'Spotify','37i9dQZF1DX8f5qTGj8FYl':'Spotify','37i9dQZF1DX70TzPK5buVf':'Spotify','37i9dQZF1DX2zVOKolQSzi':'Spotify'}\n",
    "various_folk = {'37i9dQZF1DWYV7OOaGhoH0':'Spotify','37i9dQZF1DX9crXQ0wuuXE':'Spotify','37i9dQZF1DX504r1DvyvxG':'Spotify','37i9dQZF1DWVl5gPCRkquk':'Spotify','37i9dQZF1DWXJyjYpHunCf':'Spotify'}\n",
    "various_latino = {'37i9dQZF1DX10zKzsJ2jva':'Spotify','37i9dQZF1DXbLMw3ry7d7k':'Spotify','37i9dQZF1DX65py6HnnlE1':'Spotify','37i9dQZF1DWZoF06RIo9el':'Spotify','37i9dQZF1DWSDautEwAKZB':'Spotify'}\n",
    "various_ambient = {'37i9dQZF1DX9c7yCloFHHL':'Spotify','37i9dQZF1DWUrPBdYfoJvz':'Spotify','37i9dQZF1DXdgq0lsW8B2O':'Spotify','37i9dQZF1DWZ7mSWCFIT7v':'Spotify','37i9dQZF1DX8C585qnMYHP':'Spotify'}\n",
    "various_blues = {'37i9dQZF1DX8QB9Ys2nV17':'Spotify'}\n",
    "various_blues1 = {'37i9dQZF1DWZprlljz35Gr':'Spotify','37i9dQZF1DX7Y7BqFok9IQ':'Spotify'}\n",
    "various_blues2 = {'37i9dQZF1DXcnkReojaCnV':'Spotify'}\n",
    "various_soul = {'37i9dQZF1DX4SBhb3fqCJd':'Spotify','37i9dQZF1DX6VDO8a6cQME':'Spotify','37i9dQZF1DWTx0xog3gN3q':'Spotify','37i9dQZF1DWULEW2RfoSCi':'Spotify','37i9dQZF1DWT7oUl2XAhgF':'Spotify'}\n",
    "various_metal = {'37i9dQZF1DWTcqUzwhNmKv':'Spotify','37i9dQZF1DX5J7FIl4q56G':'Spotify','37i9dQZF1DWWOaP4H0w5b0':'Spotify','37i9dQZF1DWXNFSTtym834':'Spotify','37i9dQZF1DXakaomPRkkDa':'Spotify'}\n",
    "various_punk = {'37i9dQZF1DXd6tJtr4qeot':'Spotify','37i9dQZF1DXa9wYJr1oMFq':'Spotify','37i9dQZF1DX9wa6XirBPv8':'Spotify','37i9dQZF1DX3LDIBRoaCDQ':'Spotify','37i9dQZF1DX7WJ4yDmRK8R':'Spotify'}\n",
    "gaussian_curve_inspired = {'37i9dQZF1DWZdlSSSctCmk':'Spotify','37i9dQZF1E4lAQFxLBkvBh':'Spotify'}\n",
    "decades = {'37i9dQZF1DWXeOurMWUII5':'Spotify','37i9dQZF1DWTWEW1zqSeEj':'Spotify','37i9dQZF1DXdCc7Q1hwtuv':'Spotify','37i9dQZF1DX802IXCAaWtY':'Spotify','37i9dQZF1DWWUPe5aPjWhG':'Spotify','37i9dQZF1DWYfQ0uxBYM90':'Spotify'}\n",
    "random_dictionary = {\"6HEegfWHhUcytwQFAm1QbK\" : \"Frank Ocean\" }\n",
    "techno_dictionary = {\"4RM93CShh3QYRKPnHmChSm\" : \"Krzysztof Kwiatkowski\", \"1jslqah910zhDryfFDLq7j\" : \"Krzysztof Kwiatkowski\" }\n",
    "hiphop_dictionary = {\"37i9dQZF1DX2XmsXL2WBQd\" : \"Spotify\"}\n",
    "punk_dictionary = {\"37i9dQZF1DXd6tJtr4qeot\" : \"Spotify\"}\n",
    "punk2 = {\"37i9dQZF1EQqlvxWrOgFZm\" : \"Spotify\" , \"37i9dQZF1DX3MU5XUozve7\": \"Spotify\"}\n",
    "pop_hits = {'37i9dQZF1DWX7rdRjOECPW':'Spotify','37i9dQZF1DX3WvGXE8FqYX':'Spotify','37i9dQZF1DWWvoJqVv7uOD':'Spotify','37i9dQZF1DX7C2BlYJgCS5':'Spotify','37i9dQZF1DX2cNqJ4LgCMf':'Spotify','37i9dQZF1DX0s5kDXi1oC5':'Spotify','37i9dQZF1DXbYM3nMM0oPk':'Spotify'}\n",
    "top_hits = {'37i9dQZEVXbMDoHDwVN2tF':'Spotify','37i9dQZF1ELYYzWaAD67i5':'Spotify','37i9dQZF1Etapvneoc5oia':'Spotify','37i9dQZF1DWUZv12GM5cFk':'Spotify','37i9dQZF1DXe2bobNYDtW8':'Spotify','37i9dQZF1Ejg7HCBbS3gRp':'Spotify'}\n",
    "velvey_dict_5 = {'6l1RZerhJ0PF2Cnc9kivMp':'velvey','18V3QFlzjSbqyqAloYo3kh':'velvey'}\n",
    "kk_1 = {'0KJUi7mAOTsUePrdX6r0ox':'Krzysztof Kwiatkowski','14qXDJrwuulLf3exANLFoO':'Krzysztof Kwiatkowski','0aqp4lz9ycEYQvN10gAUIa':'Krzysztof Kwiatkowski','1p280xCnCPO4PFpVfcgq98':'Krzysztof Kwiatkowski','33NMaOSGPBjd3LIBLr4pAE':'Krzysztof Kwiatkowski'}\n",
    "kk_2 = {'23PD93UC3JGg9o9U6UyeJz':'Krzysztof Kwiatkowski','1UVmaFVxuikDCQV6SdlZFG':'Krzysztof Kwiatkowski','3LXBcw9KcSlLT1o2AtDgFg':'Krzysztof Kwiatkowski','4Smw6f7rJzvP6mKn1HJ2rG':'Krzysztof Kwiatkowski','63VD8EO5G5fVWJNh6FMCyW':'Krzysztof Kwiatkowski'}"
   ]
  },
  {
   "cell_type": "markdown",
   "id": "7b7a49da",
   "metadata": {},
   "source": [
    "## Add song titles and artist names to the dataframe\n",
    "\n",
    "We have our dataframe prepared and saved in the Data folder, so we'll just show how it works here - the song names and artists will be necessary later for the song recommender.\n",
    "\n",
    "The operation of getting the song titles and artist names from the Spotify API is very expensive timewise and it might get your Spotify account suspended, so we recommend using our prepared song database from the csv file"
   ]
  },
  {
   "cell_type": "code",
   "execution_count": null,
   "id": "cc63b8da",
   "metadata": {},
   "outputs": [],
   "source": [
    "# read dataframe with songs audiofeatures \n",
    "# (thedataframe is called cleaned because all duplicates have been removed, after creating it)\n",
    "\n",
    "songs = pd.read_csv(\"Data/songs_audio_features_cleaned.csv\")\n",
    "songs"
   ]
  },
  {
   "cell_type": "code",
   "execution_count": null,
   "id": "a03bd0ea",
   "metadata": {},
   "outputs": [],
   "source": [
    "#create separate dataframe with the songs ids and save to csv\n",
    "song_ids = pd.DataFrame({'id': songs['id']})\n",
    "song_ids.to_csv('Data/song_ids.csv', index=False)"
   ]
  },
  {
   "cell_type": "code",
   "execution_count": null,
   "id": "6fa0ba45",
   "metadata": {},
   "outputs": [],
   "source": [
    "#song_titles = []\n",
    "\n",
    "#for song_id in list(song_ids['id']):\n",
    "#    song_titles.append(sp.track(song_id, market='GB')['name'])"
   ]
  },
  {
   "cell_type": "code",
   "execution_count": null,
   "id": "f2abbb68",
   "metadata": {},
   "outputs": [],
   "source": [
    "#artist_names = []\n",
    "\n",
    "#for song_id in list(song_ids['id']):\n",
    "#    artist_names.append(sp.track(song_id, market='GB')['album']['artists'][0]['name'])"
   ]
  },
  {
   "cell_type": "code",
   "execution_count": null,
   "id": "de633ccf",
   "metadata": {},
   "outputs": [],
   "source": [
    "#song_ids.insert(loc=0,column=\"title\",value= pd.Series(song_titles))\n",
    "#song_ids.insert(loc=1,column=\"artist\",value= pd.Series(artist_names))\n",
    "\n",
    "#song_ids_titles_and_artists = pd.read_csv('Data/song_ids_titles_and_artist_names.csv')"
   ]
  },
  {
   "cell_type": "code",
   "execution_count": null,
   "id": "58f748c7",
   "metadata": {},
   "outputs": [],
   "source": [
    "#drop unnecessary columns\n",
    "\n",
    "songs.drop(columns=['type','track_href','analysis_url','duration_ms','time_signature','uri','id'], inplace=True)\n",
    "\n",
    "#final_df = pd.concat(objs=[song_ids_titles_and_artists,songs], axis=1)"
   ]
  },
  {
   "cell_type": "markdown",
   "id": "33afac3e",
   "metadata": {},
   "source": [
    "## Find audio features for user input"
   ]
  },
  {
   "cell_type": "code",
   "execution_count": 366,
   "id": "ab65108d",
   "metadata": {},
   "outputs": [],
   "source": [
    "def find_features_input():\n",
    "    user_input = input(\"Please enter a song name here: \")\n",
    "    x = sp.search(q=\"user_song\",limit=1,market=\"GB\")['tracks']['items'][0]['external_urls']['spotify'][31:]\n",
    "    y = sp.audio_features(x)\n",
    "    #make the format of the data frame the sme as our song list (+ standardize with standard scaler)\n",
    "    return pd.DataFrame(y)"
   ]
  }
 ],
 "metadata": {
  "kernelspec": {
   "display_name": "Python 3 (ipykernel)",
   "language": "python",
   "name": "python3"
  },
  "language_info": {
   "codemirror_mode": {
    "name": "ipython",
    "version": 3
   },
   "file_extension": ".py",
   "mimetype": "text/x-python",
   "name": "python",
   "nbconvert_exporter": "python",
   "pygments_lexer": "ipython3",
   "version": "3.9.7"
  },
  "toc": {
   "base_numbering": 1,
   "nav_menu": {},
   "number_sections": true,
   "sideBar": true,
   "skip_h1_title": false,
   "title_cell": "Table of Contents",
   "title_sidebar": "Contents",
   "toc_cell": false,
   "toc_position": {},
   "toc_section_display": true,
   "toc_window_display": false
  }
 },
 "nbformat": 4,
 "nbformat_minor": 5
}
