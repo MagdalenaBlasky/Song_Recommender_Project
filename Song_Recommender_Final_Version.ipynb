{
 "cells": [
  {
   "cell_type": "code",
   "execution_count": 14,
   "id": "10d80d3e",
   "metadata": {},
   "outputs": [],
   "source": [
    "import config\n",
    "import spotipy\n",
    "import pickle\n",
    "import json \n",
    "import pandas as pd\n",
    "\n",
    "from spotipy.oauth2 import SpotifyClientCredentials\n",
    "sp = spotipy.Spotify(auth_manager=SpotifyClientCredentials(client_id= config.client_id,\n",
    "                                                           client_secret= config.client_secret))\n",
    "\n",
    "import Spotify_Recommender\n",
    "\n",
    "songs_df = pd.read_csv('Data/songs_dataframe_concatenated.csv')"
   ]
  },
  {
   "cell_type": "code",
   "execution_count": 15,
   "id": "330325c7",
   "metadata": {},
   "outputs": [],
   "source": [
    "scaler = load(filename = \"Model/scaler.pickle\")\n",
    "kmeans = load(filename = \"Model/kmeans.pickle\")"
   ]
  },
  {
   "cell_type": "code",
   "execution_count": 16,
   "id": "46a35d2c",
   "metadata": {},
   "outputs": [],
   "source": [
    "from Spotify_Recommender import song_recommender"
   ]
  },
  {
   "cell_type": "code",
   "execution_count": 17,
   "id": "d0a57135",
   "metadata": {},
   "outputs": [
    {
     "name": "stdout",
     "output_type": "stream",
     "text": [
      "Please enter a song name here: hasta manana\n",
      "                            title artists\n",
      "1                    Hasta Manana    ABBA\n",
      "2  Hasta Mañana - Spanish Version    ABBA\n",
      "3          Hasta Manana, Monsieur  Sparks\n",
      "Which song did you mean? Please select 1, 2 or 3. 1\n",
      "\n",
      "Your song choice is: Hasta Manana by ABBA\n",
      "Your recommendation from Spotify is: Meant to Be (feat. Florida Georgia Line) by Bebe Rexha\n",
      "\n"
     ]
    },
    {
     "data": {
      "text/html": [
       "\n",
       "        <iframe\n",
       "            width=\"320\"\n",
       "            height=\"80\"\n",
       "            src=\"https://open.spotify.com/embed/track/7iDa6hUg2VgEL1o1HjmfBn?frameborder=0&allowtransparency=true&allow=encrypted-media\"\n",
       "            frameborder=\"0\"\n",
       "            allowfullscreen\n",
       "            \n",
       "        ></iframe>\n",
       "        "
      ],
      "text/plain": [
       "<IPython.lib.display.IFrame at 0x7fc174532910>"
      ]
     },
     "execution_count": 17,
     "metadata": {},
     "output_type": "execute_result"
    }
   ],
   "source": [
    "song_recommender()"
   ]
  },
  {
   "cell_type": "code",
   "execution_count": null,
   "id": "22773bce",
   "metadata": {},
   "outputs": [],
   "source": []
  }
 ],
 "metadata": {
  "kernelspec": {
   "display_name": "Python 3 (ipykernel)",
   "language": "python",
   "name": "python3"
  },
  "language_info": {
   "codemirror_mode": {
    "name": "ipython",
    "version": 3
   },
   "file_extension": ".py",
   "mimetype": "text/x-python",
   "name": "python",
   "nbconvert_exporter": "python",
   "pygments_lexer": "ipython3",
   "version": "3.9.7"
  }
 },
 "nbformat": 4,
 "nbformat_minor": 5
}
