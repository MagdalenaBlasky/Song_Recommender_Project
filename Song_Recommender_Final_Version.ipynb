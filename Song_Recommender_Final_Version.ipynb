{
 "cells": [
  {
   "cell_type": "code",
   "execution_count": 3,
   "id": "10d80d3e",
   "metadata": {},
   "outputs": [
    {
     "name": "stdout",
     "output_type": "stream",
     "text": [
      "Please enter a song name here: \n"
     ]
    },
    {
     "ename": "JaroDistanceException",
     "evalue": "Cannot calculate distance from NoneType (str, str)",
     "output_type": "error",
     "traceback": [
      "\u001b[0;31m---------------------------------------------------------------------------\u001b[0m",
      "\u001b[0;31mJaroDistanceException\u001b[0m                     Traceback (most recent call last)",
      "Input \u001b[0;32mIn [3]\u001b[0m, in \u001b[0;36m<module>\u001b[0;34m\u001b[0m\n\u001b[1;32m      7\u001b[0m \u001b[38;5;28;01mfrom\u001b[39;00m \u001b[38;5;21;01mspotipy\u001b[39;00m\u001b[38;5;21;01m.\u001b[39;00m\u001b[38;5;21;01moauth2\u001b[39;00m \u001b[38;5;28;01mimport\u001b[39;00m SpotifyClientCredentials\n\u001b[1;32m      8\u001b[0m sp \u001b[38;5;241m=\u001b[39m spotipy\u001b[38;5;241m.\u001b[39mSpotify(auth_manager\u001b[38;5;241m=\u001b[39mSpotifyClientCredentials(client_id\u001b[38;5;241m=\u001b[39m config\u001b[38;5;241m.\u001b[39mclient_id,\n\u001b[1;32m      9\u001b[0m                                                            client_secret\u001b[38;5;241m=\u001b[39m config\u001b[38;5;241m.\u001b[39mclient_secret))\n\u001b[0;32m---> 11\u001b[0m \u001b[38;5;28;01mimport\u001b[39;00m \u001b[38;5;21;01mSpotify_Recommender\u001b[39;00m\n\u001b[1;32m     13\u001b[0m songs_df \u001b[38;5;241m=\u001b[39m pd\u001b[38;5;241m.\u001b[39mread_csv(\u001b[38;5;124m'\u001b[39m\u001b[38;5;124mData/songs_dataframe_concatenated.csv\u001b[39m\u001b[38;5;124m'\u001b[39m)\n",
      "File \u001b[0;32m~/Documents/GitHub/Song_Recommender_Project/Spotify_Recommender.py:299\u001b[0m, in \u001b[0;36m<module>\u001b[0;34m\u001b[0m\n\u001b[1;32m    293\u001b[0m     \u001b[38;5;28;01mreturn\u001b[39;00m spotify_song_recommender(user_input)\n\u001b[1;32m    296\u001b[0m \u001b[38;5;66;03m# In[36]:\u001b[39;00m\n\u001b[0;32m--> 299\u001b[0m \u001b[43msong_recommender\u001b[49m\u001b[43m(\u001b[49m\u001b[43m)\u001b[49m\n",
      "File \u001b[0;32m~/Documents/GitHub/Song_Recommender_Project/Spotify_Recommender.py:254\u001b[0m, in \u001b[0;36msong_recommender\u001b[0;34m()\u001b[0m\n\u001b[1;32m    250\u001b[0m user_input \u001b[38;5;241m=\u001b[39m user_input\u001b[38;5;241m.\u001b[39mlower()\n\u001b[1;32m    252\u001b[0m \u001b[38;5;28;01mfor\u001b[39;00m i \u001b[38;5;129;01min\u001b[39;00m \u001b[38;5;28mlist\u001b[39m(df\u001b[38;5;241m.\u001b[39msong):\n\u001b[0;32m--> 254\u001b[0m     dist \u001b[38;5;241m=\u001b[39m \u001b[43mdistance\u001b[49m\u001b[38;5;241;43m.\u001b[39;49m\u001b[43mget_jaro_distance\u001b[49m\u001b[43m(\u001b[49m\u001b[43mi\u001b[49m\u001b[43m,\u001b[49m\u001b[43m \u001b[49m\u001b[43muser_input\u001b[49m\u001b[43m)\u001b[49m\n\u001b[1;32m    256\u001b[0m     \u001b[38;5;28;01mif\u001b[39;00m dist \u001b[38;5;241m==\u001b[39m \u001b[38;5;241m1\u001b[39m:\n\u001b[1;32m    257\u001b[0m         recommendation \u001b[38;5;241m=\u001b[39m df[df\u001b[38;5;241m.\u001b[39msong \u001b[38;5;241m!=\u001b[39m user_input]\u001b[38;5;241m.\u001b[39msample(n\u001b[38;5;241m=\u001b[39m\u001b[38;5;241m1\u001b[39m)\n",
      "File \u001b[0;32m~/opt/anaconda3/envs/DA_Env/lib/python3.9/site-packages/pyjarowinkler/distance.py:28\u001b[0m, in \u001b[0;36mget_jaro_distance\u001b[0;34m(first, second, winkler, winkler_ajustment, scaling)\u001b[0m\n\u001b[1;32m     19\u001b[0m \u001b[38;5;124;03m\"\"\"\u001b[39;00m\n\u001b[1;32m     20\u001b[0m \u001b[38;5;124;03m:param first: word to calculate distance for\u001b[39;00m\n\u001b[1;32m     21\u001b[0m \u001b[38;5;124;03m:param second: word to calculate distance with\u001b[39;00m\n\u001b[0;32m   (...)\u001b[0m\n\u001b[1;32m     25\u001b[0m \u001b[38;5;124;03m:return: Jaro distance adjusted (or not)\u001b[39;00m\n\u001b[1;32m     26\u001b[0m \u001b[38;5;124;03m\"\"\"\u001b[39;00m\n\u001b[1;32m     27\u001b[0m \u001b[38;5;28;01mif\u001b[39;00m \u001b[38;5;129;01mnot\u001b[39;00m first \u001b[38;5;129;01mor\u001b[39;00m \u001b[38;5;129;01mnot\u001b[39;00m second:\n\u001b[0;32m---> 28\u001b[0m     \u001b[38;5;28;01mraise\u001b[39;00m JaroDistanceException(\u001b[38;5;124m\"\u001b[39m\u001b[38;5;124mCannot calculate distance from NoneType (\u001b[39m\u001b[38;5;132;01m{0}\u001b[39;00m\u001b[38;5;124m, \u001b[39m\u001b[38;5;132;01m{1}\u001b[39;00m\u001b[38;5;124m)\u001b[39m\u001b[38;5;124m\"\u001b[39m\u001b[38;5;241m.\u001b[39mformat(\n\u001b[1;32m     29\u001b[0m         first\u001b[38;5;241m.\u001b[39m\u001b[38;5;18m__class__\u001b[39m\u001b[38;5;241m.\u001b[39m\u001b[38;5;18m__name__\u001b[39m,\n\u001b[1;32m     30\u001b[0m         second\u001b[38;5;241m.\u001b[39m\u001b[38;5;18m__class__\u001b[39m\u001b[38;5;241m.\u001b[39m\u001b[38;5;18m__name__\u001b[39m))\n\u001b[1;32m     32\u001b[0m jaro \u001b[38;5;241m=\u001b[39m _score(first, second)\n\u001b[1;32m     33\u001b[0m cl \u001b[38;5;241m=\u001b[39m \u001b[38;5;28mmin\u001b[39m(\u001b[38;5;28mlen\u001b[39m(_get_prefix(first, second)), \u001b[38;5;241m4\u001b[39m)\n",
      "\u001b[0;31mJaroDistanceException\u001b[0m: Cannot calculate distance from NoneType (str, str)"
     ]
    }
   ],
   "source": [
    "import config\n",
    "import spotipy\n",
    "import pickle\n",
    "import json \n",
    "import pandas as pd\n",
    "\n",
    "from spotipy.oauth2 import SpotifyClientCredentials\n",
    "sp = spotipy.Spotify(auth_manager=SpotifyClientCredentials(client_id= config.client_id,\n",
    "                                                           client_secret= config.client_secret))\n",
    "\n",
    "import Spotify_Recommender\n",
    "\n",
    "songs_df = pd.read_csv('Data/songs_dataframe_concatenated.csv')"
   ]
  },
  {
   "cell_type": "code",
   "execution_count": 4,
   "id": "330325c7",
   "metadata": {},
   "outputs": [
    {
     "ename": "NameError",
     "evalue": "name 'load' is not defined",
     "output_type": "error",
     "traceback": [
      "\u001b[0;31m---------------------------------------------------------------------------\u001b[0m",
      "\u001b[0;31mNameError\u001b[0m                                 Traceback (most recent call last)",
      "Input \u001b[0;32mIn [4]\u001b[0m, in \u001b[0;36m<module>\u001b[0;34m\u001b[0m\n\u001b[0;32m----> 1\u001b[0m scaler \u001b[38;5;241m=\u001b[39m \u001b[43mload\u001b[49m(filename \u001b[38;5;241m=\u001b[39m \u001b[38;5;124m\"\u001b[39m\u001b[38;5;124mModel/scaler.pickle\u001b[39m\u001b[38;5;124m\"\u001b[39m)\n\u001b[1;32m      2\u001b[0m kmeans \u001b[38;5;241m=\u001b[39m load(filename \u001b[38;5;241m=\u001b[39m \u001b[38;5;124m\"\u001b[39m\u001b[38;5;124mModel/kmeans.pickle\u001b[39m\u001b[38;5;124m\"\u001b[39m)\n",
      "\u001b[0;31mNameError\u001b[0m: name 'load' is not defined"
     ]
    }
   ],
   "source": [
    "scaler = load(filename = \"Model/scaler.pickle\")\n",
    "kmeans = load(filename = \"Model/kmeans.pickle\")"
   ]
  },
  {
   "cell_type": "code",
   "execution_count": null,
   "id": "46a35d2c",
   "metadata": {},
   "outputs": [],
   "source": [
    "from Spotify_Recommender import song_recommender"
   ]
  },
  {
   "cell_type": "code",
   "execution_count": null,
   "id": "d0a57135",
   "metadata": {},
   "outputs": [],
   "source": [
    "song_recommender()"
   ]
  },
  {
   "cell_type": "code",
   "execution_count": null,
   "id": "22773bce",
   "metadata": {},
   "outputs": [],
   "source": []
  }
 ],
 "metadata": {
  "kernelspec": {
   "display_name": "Python 3 (ipykernel)",
   "language": "python",
   "name": "python3"
  },
  "language_info": {
   "codemirror_mode": {
    "name": "ipython",
    "version": 3
   },
   "file_extension": ".py",
   "mimetype": "text/x-python",
   "name": "python",
   "nbconvert_exporter": "python",
   "pygments_lexer": "ipython3",
   "version": "3.9.7"
  }
 },
 "nbformat": 4,
 "nbformat_minor": 5
}
