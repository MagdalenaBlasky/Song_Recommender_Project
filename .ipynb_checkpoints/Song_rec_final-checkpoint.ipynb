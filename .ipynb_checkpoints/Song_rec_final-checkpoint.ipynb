{
 "cells": [
  {
   "cell_type": "code",
   "execution_count": 86,
   "id": "096fcae9",
   "metadata": {},
   "outputs": [],
   "source": [
    "import config\n",
    "import spotipy\n",
    "import pickle\n",
    "import numpy as np\n",
    "import json \n",
    "from spotipy.oauth2 import SpotifyClientCredentials\n",
    "import pandas as pd\n",
    "from sklearn.preprocessing import StandardScaler\n",
    "sp = spotipy.Spotify(auth_manager=SpotifyClientCredentials(client_id= config.client_id,\n",
    "                                                           client_secret= config.client_secret))"
   ]
  },
  {
   "cell_type": "code",
   "execution_count": 87,
   "id": "3c06b038",
   "metadata": {},
   "outputs": [],
   "source": [
    "def load(filename = \"filename.pickle\"): \n",
    "    try: \n",
    "        with open(filename, \"rb\") as f: \n",
    "            return pickle.load(f) \n",
    "        \n",
    "    except FileNotFoundError: \n",
    "        print(\"File not found!\")"
   ]
  },
  {
   "cell_type": "code",
   "execution_count": 88,
   "id": "60b3fe8b",
   "metadata": {},
   "outputs": [
    {
     "name": "stderr",
     "output_type": "stream",
     "text": [
      "/Users/muhammad/opt/anaconda3/envs/DA_Environment/lib/python3.9/site-packages/sklearn/base.py:324: UserWarning: Trying to unpickle estimator StandardScaler from version 0.24.2 when using version 1.0.1. This might lead to breaking code or invalid results. Use at your own risk. For more info please refer to:\n",
      "https://scikit-learn.org/stable/modules/model_persistence.html#security-maintainability-limitations\n",
      "  warnings.warn(\n",
      "/Users/muhammad/opt/anaconda3/envs/DA_Environment/lib/python3.9/site-packages/sklearn/base.py:324: UserWarning: Trying to unpickle estimator KMeans from version 0.24.2 when using version 1.0.1. This might lead to breaking code or invalid results. Use at your own risk. For more info please refer to:\n",
      "https://scikit-learn.org/stable/modules/model_persistence.html#security-maintainability-limitations\n",
      "  warnings.warn(\n"
     ]
    }
   ],
   "source": [
    "scaler = load(filename = \"Model/scaler.pickle\")\n",
    "kmeans = load(filename = \"Model/kmeans.pickle\")"
   ]
  },
  {
   "cell_type": "code",
   "execution_count": 93,
   "id": "07bb8402",
   "metadata": {},
   "outputs": [],
   "source": [
    "def embeded_player(track_id):\n",
    "    \n",
    "    from IPython.display import IFrame\n",
    "\n",
    "    player = IFrame(src=\"https://open.spotify.com/embed/track/\"+track_id,\n",
    "               width=\"320\",\n",
    "               height=\"80\",\n",
    "               frameborder=\"0\",\n",
    "               allowtransparency=\"true\",\n",
    "               allow=\"encrypted-media\",\n",
    "              )\n",
    "    return player"
   ]
  },
  {
   "cell_type": "code",
   "execution_count": 124,
   "id": "939d14eb",
   "metadata": {},
   "outputs": [],
   "source": [
    "def spotify_song_recommender(user_input):\n",
    "    \n",
    "    import re\n",
    "\n",
    "\n",
    "    song_ids_list = []\n",
    "    \n",
    "    for i in range (0, 3):\n",
    "        song_ids_list.append(sp.search(q=user_input, limit =3, market=\"GB\")['tracks']['items'][i]['external_urls'][\"spotify\"][31:])\n",
    "    \n",
    "    song_name_list = []\n",
    "    \n",
    "    for i in song_ids_list: \n",
    "        song_name_list.append(sp.track(i, market='GB')['name'])\n",
    "    \n",
    "    artist_name_list = []\n",
    "    \n",
    "    for i in song_ids_list:\n",
    "        artist_name_list.append(sp.track(i, market='GB')['album']['artists'][0]['name'])\n",
    "    \n",
    "\n",
    "    user_menu_df = pd.DataFrame({'title': song_name_list, 'artists': artist_name_list, 'id': song_ids_list})\n",
    "    user_menu_df.index += 1\n",
    "\n",
    "    print (user_menu_df[['title','artists']])\n",
    "\n",
    "    r = None\n",
    "    while r not in ('1', '2', '3'):  \n",
    "    \n",
    "        r = input ('Which song did you mean? Please select 1, 2 or 3. ')\n",
    "        r = re.sub(\"\\D\", \"\", r)\n",
    "    \n",
    "        if r in ('1', '2' ,'3'):\n",
    "            r = int(r)\n",
    "            response_title = user_menu_df.loc[r , 'title' ]\n",
    "            response_artist = user_menu_df.loc[r , 'artists' ]\n",
    "            response_id = user_menu_df.loc[r , 'id' ]\n",
    "            print('\\n' + 'Your song choice is: ' + response_title + ' by ' + response_artist)\n",
    "            user_final_choice_name = response_title\n",
    "            break \n",
    "        else:\n",
    "            print('\\n' + \"Your entry is invalid. Please choose 1, 2 or 3\")  \n",
    "    \n",
    "    \n",
    "    y = sp.audio_features(response_id)\n",
    "\n",
    "    song_features = pd.DataFrame(y)\n",
    "    song_id = song_features['id']\n",
    "    song_features = song_features.drop(['id','type', 'uri', 'track_href', 'analysis_url','time_signature', 'duration_ms'], axis =  1)\n",
    "        \n",
    "    features_scaled = scaler.transform(song_features)\n",
    "    song_features_scaled = pd.DataFrame(features_scaled, columns = song_features.columns)\n",
    "    \n",
    "    songs_df = pd.read_csv('Data/songs_dataframe_concatenated.csv')\n",
    "    \n",
    "    prediction = kmeans.predict(song_features_scaled)\n",
    "    prediction_cluster = prediction[0]\n",
    "        \n",
    "    recommendation_spotify = songs_df[songs_df['cluster']==prediction_cluster].sample(n=1)\n",
    "    title = recommendation_spotify.iloc[0,0]\n",
    "    artist = recommendation_spotify.iloc[0,1]\n",
    "    recommendation_id = recommendation_spotify.iloc[0,2]\n",
    "    \n",
    "    \n",
    "    player = embeded_player(recommendation_id)\n",
    "    \n",
    "    print('Your recommendation from Spotify is: ' + title + ' by '+ artist)\n",
    "    return (player)\n",
    "    "
   ]
  },
  {
   "cell_type": "code",
   "execution_count": 129,
   "id": "f6541d69",
   "metadata": {},
   "outputs": [
    {
     "name": "stdout",
     "output_type": "stream",
     "text": [
      "Give us a song!\n",
      "boogie\n",
      "                                  title             artists\n",
      "1                     Boogie Wonderland  Earth, Wind & Fire\n",
      "2  Hello (feat. A Boogie Wit da Hoodie)           Pop Smoke\n",
      "3                                BOOGIE        BROCKHAMPTON\n",
      "Which song did you mean? Please select 1, 2 or 3. 3\n",
      "\n",
      "Your song choice is: BOOGIE by BROCKHAMPTON\n",
      "Your recommendation from Spotify is: Message in a Bottle by Livingston\n"
     ]
    },
    {
     "name": "stderr",
     "output_type": "stream",
     "text": [
      "/Users/muhammad/opt/anaconda3/envs/DA_Environment/lib/python3.9/site-packages/sklearn/base.py:438: UserWarning: X has feature names, but StandardScaler was fitted without feature names\n",
      "  warnings.warn(\n",
      "/Users/muhammad/opt/anaconda3/envs/DA_Environment/lib/python3.9/site-packages/sklearn/base.py:438: UserWarning: X has feature names, but KMeans was fitted without feature names\n",
      "  warnings.warn(\n"
     ]
    },
    {
     "data": {
      "text/html": [
       "\n",
       "        <iframe\n",
       "            width=\"320\"\n",
       "            height=\"80\"\n",
       "            src=\"https://open.spotify.com/embed/track/20umbRtGLy493kML1VedCq?frameborder=0&allowtransparency=true&allow=encrypted-media\"\n",
       "            frameborder=\"0\"\n",
       "            allowfullscreen\n",
       "            \n",
       "        ></iframe>\n",
       "        "
      ],
      "text/plain": [
       "<IPython.lib.display.IFrame at 0x7fa398f88e20>"
      ]
     },
     "execution_count": 129,
     "metadata": {},
     "output_type": "execute_result"
    }
   ],
   "source": [
    "spotify_song_recommender()"
   ]
  },
  {
   "cell_type": "markdown",
   "id": "14ed5f43",
   "metadata": {},
   "source": [
    "def song_recommender_1 ():\n",
    "    \n",
    "    top_100_df = pd.read_csv('Data/ScrapedBillboard_Data_final.csv')\n",
    "    \n",
    "    from pyjarowinkler import distance\n",
    "    \n",
    "    user_input = input(\"Please enter a song name here: \")\n",
    "    user_input = user_input.lower()\n",
    "    \n",
    "    for i in list(top_100_df.song):\n",
    "        \n",
    "        dist = distance.get_jaro_distance(i, user_input)   \n",
    "        recommendation_billboard = top_100_df[top_100_df.song != user_input].sample(n=1)\n",
    "        title = recommendation_billboard.iloc[0,0]\n",
    "        artist = recommendation_billboard.iloc[0,1]\n",
    "    \n",
    "        if dist == 1:\n",
    "            return print('Your song is in the Billboard Top 100 Songs!','\\n','Here is your recommendation:',title, 'by', artist)  \n",
    "    \n",
    "        elif dist >= 0.90 and dist < 1:\n",
    "            \n",
    "            input2 = (input('Your input was' + user_input + 'did you mean' + i +'? (y/n)')).lower()\n",
    "        \n",
    "            if input2[0] == 'y':\n",
    "                return print('Your song is in the Billboard Top 100 Songs!','\\n','Here is your recommendation:', title, 'by', artist)\n",
    "            \n",
    "            elif input2[0] == 'n':\n",
    "                \n",
    "                song_feat = find_features_input(user_input)\n",
    "                return print('Your song is not in the Billboard Top 100 Songs, Here is a recommendation from out database ;)' + recommendation)\n",
    "            else: \n",
    "                print('Invalid Response :( Please Try Again' + is_song_in_top_100(top_100_df))\n",
    "    "
   ]
  },
  {
   "cell_type": "code",
   "execution_count": 128,
   "id": "3e783200",
   "metadata": {},
   "outputs": [],
   "source": [
    "def song_recommender():\n",
    "    \n",
    "    df = pd.read_csv(\"Data/Scraped_Billboard_Top_100.csv\")\n",
    "    \n",
    "    from pyjarowinkler import distance\n",
    "    \n",
    "    user_input = input(\"Please enter a song name here: \")\n",
    "    user_input = user_input.lower()\n",
    "    \n",
    "    for i in list(df.song):\n",
    "        \n",
    "        dist = distance.get_jaro_distance(i, user_input)\n",
    "        \n",
    "        if dist == 1:\n",
    "            recommendation = df[df.song != user_input].sample(n=1)\n",
    "            title = recommendation.iloc[0,0]\n",
    "            artist = recommendation.iloc[0,1]\n",
    "            return print('Your song is in the Billboard Top 100 Songs!','\\n','Here is your recommendation:',title, 'by', artist)\n",
    "        \n",
    "        \n",
    "        elif dist >= 0.90 and dist < 1:\n",
    "            \n",
    "            answer = None\n",
    "            \n",
    "            while answer not in (\"yes\", \"no\"):\n",
    "                answer = input('Are you sure your input was correct? You entered '+ user_input + ', did you mean '+ i + ' ? (yes/no) ').lower()\n",
    "            \n",
    "                if answer == 'yes':\n",
    "                    recommendation = df[df.song != user_input].sample(n=1)\n",
    "                    title = recommendation.iloc[0,0]\n",
    "                    artist = recommendation.iloc[0,1]\n",
    "                    return print('\\n','Your song is in the Billboard Top 100 Songs!','\\n','Here is your recommendation:',title, 'by', artist)\n",
    "            \n",
    "                elif answer == 'no':\n",
    "                    \n",
    "                    answer2 = None\n",
    "                    \n",
    "                    while answer2 not in (\"yes\", \"no\"):\n",
    "                    \n",
    "                        answer2 = input('Your song is not in the Billboard Top 100 Songs. Do you want a recommendation from Spotify? (yes/no)').lower() \n",
    "                        \n",
    "                        if answer2 == 'yes':\n",
    "                            return spotify_song_recommender(user_input)\n",
    "                        elif answer2 == 'no':\n",
    "                            return print('\\n',\"Your song is not in the Billboard Top 100 Songs and you didn't want any other recommendation, sorry!\")\n",
    "                        else: \n",
    "                            print('\\n' + '!!!Please enter yes or no!!!') \n",
    "                else:\n",
    "                    print('\\n'+'!!!Please enter yes or no!!!')\n",
    "                \n",
    "    return spotify_song_recommender(user_input)"
   ]
  },
  {
   "cell_type": "code",
   "execution_count": 151,
   "id": "7847ac10",
   "metadata": {},
   "outputs": [
    {
     "name": "stdout",
     "output_type": "stream",
     "text": [
      "Your song choice is: ROXANNE by Arizona Zervas\n"
     ]
    },
    {
     "name": "stderr",
     "output_type": "stream",
     "text": [
      "/Users/muhammad/opt/anaconda3/envs/DA_Environment/lib/python3.9/site-packages/sklearn/base.py:438: UserWarning: X has feature names, but StandardScaler was fitted without feature names\n",
      "  warnings.warn(\n",
      "/Users/muhammad/opt/anaconda3/envs/DA_Environment/lib/python3.9/site-packages/sklearn/base.py:438: UserWarning: X has feature names, but KMeans was fitted without feature names\n",
      "  warnings.warn(\n"
     ]
    },
    {
     "data": {
      "text/plain": [
       "\"Your recommendation from Spotify is: I'm in the Mood for Dancing by The Nolans\""
      ]
     },
     "execution_count": 151,
     "metadata": {},
     "output_type": "execute_result"
    }
   ],
   "source": [
    "song_recommender()"
   ]
  }
 ],
 "metadata": {
  "kernelspec": {
   "display_name": "Python 3 (ipykernel)",
   "language": "python",
   "name": "python3"
  },
  "language_info": {
   "codemirror_mode": {
    "name": "ipython",
    "version": 3
   },
   "file_extension": ".py",
   "mimetype": "text/x-python",
   "name": "python",
   "nbconvert_exporter": "python",
   "pygments_lexer": "ipython3",
   "version": "3.9.7"
  }
 },
 "nbformat": 4,
 "nbformat_minor": 5
}
