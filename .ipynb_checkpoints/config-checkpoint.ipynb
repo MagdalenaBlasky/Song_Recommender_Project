{
 "cells": [
  {
   "cell_type": "code",
   "execution_count": null,
   "id": "de7453ca",
   "metadata": {},
   "outputs": [],
   "source": [
    "client_id = \"342e357fce97455faeb2645453591441\"\n",
    "client_secret =\"ea2efca60c9e4cbbaaf30c6904ee0bbb\""
   ]
  }
 ],
 "metadata": {
  "kernelspec": {
   "display_name": "Python 3 (ipykernel)",
   "language": "python",
   "name": "python3"
  },
  "language_info": {
   "codemirror_mode": {
    "name": "ipython",
    "version": 3
   },
   "file_extension": ".py",
   "mimetype": "text/x-python",
   "name": "python",
   "nbconvert_exporter": "python",
   "pygments_lexer": "ipython3",
   "version": "3.9.7"
  }
 },
 "nbformat": 4,
 "nbformat_minor": 5
}
