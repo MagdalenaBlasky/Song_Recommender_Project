{
 "cells": [
  {
   "cell_type": "code",
   "execution_count": 1,
   "id": "de7453ca",
   "metadata": {},
   "outputs": [],
   "source": [
    "client_id = \"649c8ad5e90c4f619982b4df57aad1a8\"\n",
    "client_secret =\"6ea9f1685882471cae3c669ea970a0e6\""
   ]
  },
  {
   "cell_type": "code",
   "execution_count": null,
   "id": "366ecd18",
   "metadata": {},
   "outputs": [],
   "source": []
  }
 ],
 "metadata": {
  "kernelspec": {
   "display_name": "Python 3 (ipykernel)",
   "language": "python",
   "name": "python3"
  },
  "language_info": {
   "codemirror_mode": {
    "name": "ipython",
    "version": 3
   },
   "file_extension": ".py",
   "mimetype": "text/x-python",
   "name": "python",
   "nbconvert_exporter": "python",
   "pygments_lexer": "ipython3",
   "version": "3.9.7"
  }
 },
 "nbformat": 4,
 "nbformat_minor": 5
}
