{
 "cells": [
  {
   "cell_type": "code",
   "execution_count": null,
   "id": "1d452431",
   "metadata": {},
   "outputs": [],
   "source": [
    "client_id = \"5f0d5c2858b649839f0527c56aa3c245\"\n",
    "client_secret =\"d26458fb93c74ccabb3935978cfb19fa\""
   ]
  }
 ],
 "metadata": {
  "kernelspec": {
   "display_name": "Python 3 (ipykernel)",
   "language": "python",
   "name": "python3"
  },
  "language_info": {
   "codemirror_mode": {
    "name": "ipython",
    "version": 3
   },
   "file_extension": ".py",
   "mimetype": "text/x-python",
   "name": "python",
   "nbconvert_exporter": "python",
   "pygments_lexer": "ipython3",
   "version": "3.9.7"
  }
 },
 "nbformat": 4,
 "nbformat_minor": 5
}
