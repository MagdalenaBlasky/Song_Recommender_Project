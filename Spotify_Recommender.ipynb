{
 "cells": [
  {
   "cell_type": "markdown",
   "id": "e10b9727",
   "metadata": {},
   "source": [
    "## Functions for the song recommender"
   ]
  },
  {
   "cell_type": "code",
   "execution_count": 1,
   "id": "9c0f10e9",
   "metadata": {},
   "outputs": [],
   "source": [
    "import config\n",
    "import spotipy\n",
    "import pickle\n",
    "import json \n",
    "from spotipy.oauth2 import SpotifyClientCredentials\n",
    "import pandas as pd\n",
    "from sklearn.preprocessing import StandardScaler\n",
    "sp = spotipy.Spotify(auth_manager=SpotifyClientCredentials(client_id= config.client_id,\n",
    "                                                           client_secret= config.client_secret))"
   ]
  },
  {
   "cell_type": "code",
   "execution_count": 2,
   "id": "8c868ecc",
   "metadata": {},
   "outputs": [],
   "source": [
    "songs_df = pd.read_csv('Data/songs_dataframe_concatenated.csv')"
   ]
  },
  {
   "cell_type": "markdown",
   "id": "2d27030a",
   "metadata": {},
   "source": [
    "### Loading Pickle"
   ]
  },
  {
   "cell_type": "code",
   "execution_count": 3,
   "id": "98adf846",
   "metadata": {},
   "outputs": [],
   "source": [
    "def load(filename = \"filename.pickle\"): \n",
    "    try: \n",
    "        with open(filename, \"rb\") as f: \n",
    "            return pickle.load(f) \n",
    "        \n",
    "    except FileNotFoundError: \n",
    "        print(\"File not found!\")"
   ]
  },
  {
   "cell_type": "code",
   "execution_count": 4,
   "id": "20e00356",
   "metadata": {},
   "outputs": [],
   "source": [
    "scaler = load(filename = \"Model/scaler.pickle\")\n",
    "kmeans = load(filename = \"Model/kmeans.pickle\")"
   ]
  },
  {
   "cell_type": "markdown",
   "id": "68022b3b",
   "metadata": {},
   "source": [
    "### Creating an embeded player for the Spotify recommendation"
   ]
  },
  {
   "cell_type": "code",
   "execution_count": 5,
   "id": "4d921672",
   "metadata": {},
   "outputs": [],
   "source": [
    "def embeded_player(track_id):\n",
    "    \n",
    "    from IPython.display import IFrame\n",
    "\n",
    "    player = IFrame(src=\"https://open.spotify.com/embed/track/\"+track_id,\n",
    "               width=\"320\",\n",
    "               height=\"80\",\n",
    "               frameborder=\"0\",\n",
    "               allowtransparency=\"true\",\n",
    "               allow=\"encrypted-media\",\n",
    "              )\n",
    "    return player"
   ]
  },
  {
   "cell_type": "markdown",
   "id": "e108faad",
   "metadata": {},
   "source": [
    "### First version of the function finding audio features \n",
    "\n",
    "This function finds features for only one song."
   ]
  },
  {
   "cell_type": "code",
   "execution_count": 6,
   "id": "d6488337",
   "metadata": {},
   "outputs": [],
   "source": [
    "def find_features_input_ver_1(user_input):  \n",
    "        \n",
    "    x = sp.search(q=user_input, limit =10, market=\"US\")['tracks']['items'][1]['external_urls'][\"spotify\"][31:]\n",
    "\n",
    "    y = sp.audio_features(x)\n",
    "\n",
    "    input_song_name = sp.track(x,market='US')['name']\n",
    "    input_song_artist = sp.track(x, market='US')['album']['artists'][0]['name']\n",
    "    \n",
    "    print('Your song is: ' + input_song_name + ' by ' + input_song_artist)\n",
    "    \n",
    "    song_features = pd.DataFrame(y)\n",
    "    song_id = song_features['id']\n",
    "    song_features = song_features.drop(['id','type', 'uri', 'track_href', 'analysis_url','time_signature', 'duration_ms'], axis =  1)\n",
    "    \n",
    "    features_scaled = scaler.transform(song_features)\n",
    "    song_features_scaled = pd.DataFrame(features_scaled, columns = song_features.columns)\n",
    "    \n",
    "    return (song_features_scaled)"
   ]
  },
  {
   "cell_type": "markdown",
   "id": "5192a8c4",
   "metadata": {},
   "source": [
    "### Second version of the function finding audio features\n",
    "\n",
    "This version lets the user choose one song from three available options and finds features for the chosen song. "
   ]
  },
  {
   "cell_type": "code",
   "execution_count": 7,
   "id": "8a52498a",
   "metadata": {},
   "outputs": [],
   "source": [
    "def find_features_input(user_input):\n",
    "    \n",
    "    import re\n",
    "\n",
    "\n",
    "    song_ids_list = []\n",
    "    \n",
    "    for i in range (0, 3):\n",
    "        song_ids_list.append(sp.search(q=user_input, limit =3, market=\"GB\")['tracks']['items'][i]['external_urls'][\"spotify\"][31:])\n",
    "    \n",
    "    song_name_list = []\n",
    "    \n",
    "    for i in song_ids_list: \n",
    "        song_name_list.append(sp.track(i, market='GB')['name'])\n",
    "    \n",
    "    artist_name_list = []\n",
    "    \n",
    "    for i in song_ids_list:\n",
    "        artist_name_list.append(sp.track(i, market='GB')['album']['artists'][0]['name'])\n",
    "    \n",
    "\n",
    "    user_menu_df = pd.DataFrame({'title': song_name_list, 'artists': artist_name_list, 'id': song_ids_list})\n",
    "    user_menu_df.index += 1\n",
    "\n",
    "    print (user_menu_df[['title','artists']])\n",
    "\n",
    "    r = None\n",
    "    while r not in ('1', '2', '3'):  \n",
    "    \n",
    "        r = input ('Which song did you mean? Please select 1, 2 or 3. ')\n",
    "        r = re.sub(\"\\D\", \"\", r)\n",
    "    \n",
    "        if r in ('1', '2' ,'3'):\n",
    "            r = int(r)\n",
    "            response_title = user_menu_df.loc[r , 'title' ]\n",
    "            response_artist = user_menu_df.loc[r , 'artists' ]\n",
    "            response_id = user_menu_df.loc[r , 'id' ]\n",
    "            print('\\n' + 'Your song choice is: ' + response_title + ' by ' + response_artist)\n",
    "            user_final_choice_name = response_title\n",
    "            break \n",
    "        else:\n",
    "            print('\\n' + \"Your entry is invalid. Please choose 1, 2 or 3\")  \n",
    "    \n",
    "    \n",
    "    y = sp.audio_features(response_id)\n",
    "\n",
    "    song_features = pd.DataFrame(y)\n",
    "    song_id = song_features['id']\n",
    "    song_features = song_features.drop(['id','type', 'uri', 'track_href', 'analysis_url','time_signature', 'duration_ms'], axis =  1)\n",
    "        \n",
    "    \n",
    "    \n",
    "    features_scaled = scaler.transform(song_features)\n",
    "    song_features_scaled = pd.DataFrame(features_scaled, columns = song_features.columns)\n",
    "    \n",
    "    \n",
    "    return (song_features_scaled)"
   ]
  },
  {
   "cell_type": "markdown",
   "id": "268cd172",
   "metadata": {},
   "source": [
    "### Spotify recommender - version one \n",
    "\n",
    "This recommender uses the previous function to find audio features and gives the recommendation only as a sentence."
   ]
  },
  {
   "cell_type": "code",
   "execution_count": 8,
   "id": "b2aa8702",
   "metadata": {},
   "outputs": [],
   "source": [
    "def spotify_song_recommender_ver_1(user_input):\n",
    "    \n",
    "    songs_df = pd.read_csv('Data/songs_dataframe_concatenated.csv')\n",
    "    \n",
    "    user_song = find_features_input(user_input)\n",
    "    prediction = kmeans.predict(user_song)\n",
    "    predict_cluster = prediction[0]\n",
    "    \n",
    "    recommendation_spotify = songs_df[songs_df['cluster']==predict_cluster].sample(n=1)\n",
    "    title = recommendation_spotify.iloc[0,0]\n",
    "    artist = recommendation_spotify.iloc[0,1]\n",
    "\n",
    "    track_id = response_id\n",
    "    \n",
    "    player = empeded_player(track_id)\n",
    "    \n",
    "    return print('Your recommendation from Spotify is: ' + title + ' by '+ artist +'\\n'+ track_id)\n"
   ]
  },
  {
   "cell_type": "markdown",
   "id": "7989e50e",
   "metadata": {},
   "source": [
    "### Second version of the Spotify recommender \n",
    "\n",
    "This function connects the first version of the Spotify recommender with the function looking for audio features.\n",
    "The additional option here is the embeded player that is being returned by this function."
   ]
  },
  {
   "cell_type": "code",
   "execution_count": 17,
   "id": "293d838a",
   "metadata": {},
   "outputs": [],
   "source": [
    "def spotify_song_recommender(user_input):\n",
    "    \n",
    "    import re\n",
    "\n",
    "    song_ids_list = []\n",
    "    \n",
    "    for i in range (0, 3):\n",
    "        song_ids_list.append(sp.search(q=user_input, limit =3, market=\"GB\")['tracks']['items'][i]['external_urls'][\"spotify\"][31:])\n",
    "    \n",
    "    song_name_list = []\n",
    "    \n",
    "    for i in song_ids_list: \n",
    "        song_name_list.append(sp.track(i, market='GB')['name'])\n",
    "    \n",
    "    artist_name_list = []\n",
    "    \n",
    "    for i in song_ids_list:\n",
    "        artist_name_list.append(sp.track(i, market='GB')['album']['artists'][0]['name'])\n",
    "    \n",
    "\n",
    "    user_menu_df = pd.DataFrame({'title': song_name_list, 'artists': artist_name_list, 'id': song_ids_list})\n",
    "    user_menu_df.index += 1\n",
    "\n",
    "    print (user_menu_df[['title','artists']])\n",
    "\n",
    "    r = None\n",
    "    while r not in ('1', '2', '3'):  \n",
    "    \n",
    "        r = input ('Your song is not in the Billboard Top 100. Which song did you mean? Please select 1, 2 or 3. ')\n",
    "        r = re.sub(\"\\D\", \"\", r)\n",
    "    \n",
    "        if r in ('1', '2' ,'3'):\n",
    "            r = int(r)\n",
    "            response_title = user_menu_df.loc[r , 'title' ]\n",
    "            response_artist = user_menu_df.loc[r , 'artists' ]\n",
    "            response_id = user_menu_df.loc[r , 'id' ]\n",
    "            print('\\n' + 'Your song choice is: ' + response_title + ' by ' + response_artist)\n",
    "            user_final_choice_name = response_title\n",
    "            break \n",
    "        else:\n",
    "            print('\\n' + \"Your entry is invalid. Please choose 1, 2 or 3\")  \n",
    "    \n",
    "    \n",
    "    y = sp.audio_features(response_id)\n",
    "\n",
    "    song_features = pd.DataFrame(y)\n",
    "    song_id = song_features['id']\n",
    "    song_features = song_features.drop(['id','type', 'uri', 'track_href', 'analysis_url','time_signature', 'duration_ms'], axis =  1)\n",
    "        \n",
    "    features_scaled = scaler.transform(song_features)\n",
    "    song_features_scaled = pd.DataFrame(features_scaled, columns = song_features.columns)\n",
    "    \n",
    "    songs_df = pd.read_csv('Data/songs_dataframe_concatenated.csv')\n",
    "    \n",
    "    prediction = kmeans.predict(song_features_scaled)\n",
    "    prediction_cluster = prediction[0]\n",
    "        \n",
    "    recommendation_spotify = songs_df[songs_df['cluster']==prediction_cluster].sample(n=1)\n",
    "    title = recommendation_spotify.iloc[0,0]\n",
    "    artist = recommendation_spotify.iloc[0,1]\n",
    "    recommendation_id = recommendation_spotify.iloc[0,2]\n",
    "    \n",
    "    \n",
    "    player = embeded_player(recommendation_id)\n",
    "    \n",
    "    print('Your recommendation from Spotify is: ' + title + ' by '+ artist +'\\n')\n",
    "    return (player)"
   ]
  },
  {
   "cell_type": "markdown",
   "id": "0a225b0c",
   "metadata": {},
   "source": [
    "### Final recommender\n",
    "\n",
    "This function connects the Billboard recommender with the Spotify recommender that is built into this funtion with the Spotify recommender function. "
   ]
  },
  {
   "cell_type": "code",
   "execution_count": 18,
   "id": "754739ff",
   "metadata": {},
   "outputs": [],
   "source": [
    "def song_recommender():\n",
    "    \n",
    "    df = pd.read_csv(\"Data/Scraped_Billboard_Top_100.csv\")\n",
    "    \n",
    "    from pyjarowinkler import distance\n",
    "    \n",
    "    user_input = input(\"Please enter a song name here: \")\n",
    "    user_input = user_input.lower()\n",
    "    \n",
    "    for i in list(df.song):\n",
    "        \n",
    "        dist = distance.get_jaro_distance(i, user_input)\n",
    "        \n",
    "        if dist == 1:\n",
    "            recommendation = df[df.song != user_input].sample(n=1)\n",
    "            title = recommendation.iloc[0,0]\n",
    "            artist = recommendation.iloc[0,1]\n",
    "            return print('Your song is in the Billboard Top 100 Songs!','\\n','Here is your recommendation:',title, 'by', artist)\n",
    "        \n",
    "        \n",
    "        elif dist >= 0.90 and dist < 1:\n",
    "            \n",
    "            answer = None\n",
    "            \n",
    "            while answer not in (\"yes\", \"no\"):\n",
    "                answer = input('Are you sure your input was correct? You entered '+ user_input + ', did you mean '+ i + ' ? (yes/no) ').lower()\n",
    "            \n",
    "                if answer == 'yes':\n",
    "                    recommendation = df[df.song != user_input].sample(n=1)\n",
    "                    title = recommendation.iloc[0,0]\n",
    "                    artist = recommendation.iloc[0,1]\n",
    "                    return print('\\n','Your song is in the Billboard Top 100 Songs!','\\n','Here is your recommendation:',title, 'by', artist)\n",
    "            \n",
    "                elif answer == 'no':\n",
    "                    \n",
    "                    answer2 = None\n",
    "                    \n",
    "                    while answer2 not in (\"yes\", \"no\"):\n",
    "                    \n",
    "                        answer2 = input('Your song is not in the Billboard Top 100 Songs. Do you want a recommendation from Spotify? (yes/no)').lower() \n",
    "                        \n",
    "                        if answer2 == 'yes':\n",
    "                            print('For which one of these songs do you want your recommendation?'+'\\n')\n",
    "                            return spotify_song_recommender(user_input)\n",
    "                        elif answer2 == 'no':\n",
    "                            return print('\\n',\"Your song is not in the Billboard Top 100 Songs and you didn't want any other recommendation, sorry!\")\n",
    "                        else: \n",
    "                            print('\\n' + '!!!Please enter yes or no!!!') \n",
    "                else:\n",
    "                    print('\\n'+'!!!Please enter yes or no!!!')\n",
    "                \n",
    "    return spotify_song_recommender(user_input)"
   ]
  },
  {
   "cell_type": "code",
   "execution_count": 45,
   "id": "1ab20e77",
   "metadata": {},
   "outputs": [
    {
     "name": "stdout",
     "output_type": "stream",
     "text": [
      "Please enter a song name here: crazy in love\n",
      "                         title         artists\n",
      "1  Crazy In Love (feat. Jay-Z)         Beyoncé\n",
      "2                Crazy in Love  Sofia Karlberg\n",
      "3        Crazy In Love - Remix         Beyoncé\n",
      "Your song is not in the Billboard Top 100. Which song did you mean? Please select 1, 2 or 3. 1\n",
      "\n",
      "Your song choice is: Crazy In Love (feat. Jay-Z) by Beyoncé\n",
      "Your recommendation from Spotify is: Homesick by DJ Koze\n",
      "\n"
     ]
    },
    {
     "data": {
      "text/html": [
       "\n",
       "        <iframe\n",
       "            width=\"320\"\n",
       "            height=\"80\"\n",
       "            src=\"https://open.spotify.com/embed/track/6KWgA6JYdy9aWzwRlDSeo7?frameborder=0&allowtransparency=true&allow=encrypted-media\"\n",
       "            frameborder=\"0\"\n",
       "            allowfullscreen\n",
       "            \n",
       "        ></iframe>\n",
       "        "
      ],
      "text/plain": [
       "<IPython.lib.display.IFrame at 0x7fd200294730>"
      ]
     },
     "execution_count": 45,
     "metadata": {},
     "output_type": "execute_result"
    }
   ],
   "source": [
    "song_recommender()"
   ]
  },
  {
   "cell_type": "code",
   "execution_count": null,
   "id": "e69475a2",
   "metadata": {},
   "outputs": [],
   "source": []
  }
 ],
 "metadata": {
  "kernelspec": {
   "display_name": "Python 3 (ipykernel)",
   "language": "python",
   "name": "python3"
  },
  "language_info": {
   "codemirror_mode": {
    "name": "ipython",
    "version": 3
   },
   "file_extension": ".py",
   "mimetype": "text/x-python",
   "name": "python",
   "nbconvert_exporter": "python",
   "pygments_lexer": "ipython3",
   "version": "3.9.7"
  }
 },
 "nbformat": 4,
 "nbformat_minor": 5
}
